{
 "cells": [
  {
   "cell_type": "code",
   "execution_count": 2,
   "metadata": {
    "colab": {
     "base_uri": "https://localhost:8080/"
    },
    "id": "PLwiefGb-C4d",
    "outputId": "e35b765f-f595-45bd-abc8-f8faf7a942a1"
   },
   "outputs": [
    {
     "name": "stdout",
     "output_type": "stream",
     "text": [
      "Resultant Matrix C:\n",
      "[58, 64]\n",
      "[139, 154]\n"
     ]
    }
   ],
   "source": [
    "# Define two matrices A and B\n",
    "A = [\n",
    "    [1, 2, 3],\n",
    "    [4, 5, 6]\n",
    "]\n",
    "\n",
    "B = [\n",
    "    [7, 8],\n",
    "    [9, 10],\n",
    "    [11, 12]\n",
    "]\n",
    "\n",
    "# Create an empty result matrix C with dimensions (rows of A) x (columns of B)\n",
    "C = [[0 for _ in range(len(B[0]))] for _ in range(len(A))]\n",
    "\n",
    "# Perform matrix multiplication\n",
    "for i in range(len(A)):            # Iterate over rows of A\n",
    "    for j in range(len(B[0])):      # Iterate over columns of B\n",
    "        for k in range(len(B)):     # Iterate over rows of B (or columns of A)\n",
    "            C[i][j] += A[i][k] * B[k][j]\n",
    "\n",
    "# Display the result\n",
    "print(\"Resultant Matrix C:\")\n",
    "for row in C:\n",
    "    print(row)\n"
   ]
  }
 ],
 "metadata": {
  "accelerator": "GPU",
  "colab": {
   "gpuType": "T4",
   "provenance": []
  },
  "gpuClass": "standard",
  "kernelspec": {
   "display_name": "Python 3 (ipykernel)",
   "language": "python",
   "name": "python3"
  },
  "language_info": {
   "codemirror_mode": {
    "name": "ipython",
    "version": 3
   },
   "file_extension": ".py",
   "mimetype": "text/x-python",
   "name": "python",
   "nbconvert_exporter": "python",
   "pygments_lexer": "ipython3",
   "version": "3.11.7"
  }
 },
 "nbformat": 4,
 "nbformat_minor": 4
}
